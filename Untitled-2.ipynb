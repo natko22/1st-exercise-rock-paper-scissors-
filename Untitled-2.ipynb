{
 "cells": [
  {
   "cell_type": "code",
   "execution_count": 32,
   "metadata": {},
   "outputs": [],
   "source": [
    "rock = '''\n",
    "    _______\n",
    "---'   ____)\n",
    "      (_____)\n",
    "      (_____)\n",
    "      (____)\n",
    "---.__(___)\n",
    "'''\n",
    "\n",
    "paper = '''\n",
    "    _______\n",
    "---'   ____)____\n",
    "          ______)\n",
    "          _______)\n",
    "         _______)\n",
    "---.__________)\n",
    "'''\n",
    "\n",
    "scissors = '''\n",
    "    _______\n",
    "---'   ____)____\n",
    "          ______)\n",
    "       __________)\n",
    "      (____)\n",
    "---.__(___)\n",
    "'''"
   ]
  },
  {
   "cell_type": "markdown",
   "metadata": {},
   "source": [
    "Conditional  Statements to Determine who Wins"
   ]
  },
  {
   "cell_type": "code",
   "execution_count": null,
   "metadata": {},
   "outputs": [],
   "source": [
    "import random \n",
    "spiel_bilder = [rock, paper, scissors]\n",
    "\n",
    "comp_spieler = random.randint (0, 2)\n",
    "print(\"Der Computer hat gewählt\")\n",
    "print(spiel_bilder[comp_spieler])\n",
    "\n",
    "if comp_spieler == 0:\n",
    "    print(\"comp_spieler wins\")\n",
    "if comp_spieler == 2:\n",
    "    print(\"comp_spieler loses\")\n",
    "if comp_spieler == 1:\n",
    "    print(\"It is a draw\")\n",
    "\n",
    "\n",
    "    user_spieler = int(input(\"Bitte gib 0 für Stein, 1 für Papier und 2 für Schere\"))\n",
    "print(\"Du hast gewhält\")\n",
    "print(spiel_bilder[user_spieler])\n",
    "\n",
    "if user_spieler == 2:\n",
    "    print(\"user_spieler loses\")\n",
    "if user_spieler == 0:\n",
    "    print(\"user_spieler wins\")\n",
    "if user_spieler == 1:\n",
    "    print(\"It is a draw\")\n",
    "\n",
    "\n",
    "\n",
    "\n",
    "\n",
    "\n"
   ]
  }
 ],
 "metadata": {
  "kernelspec": {
   "display_name": "Python 3.10.8 64-bit",
   "language": "python",
   "name": "python3"
  },
  "language_info": {
   "codemirror_mode": {
    "name": "ipython",
    "version": 3
   },
   "file_extension": ".py",
   "mimetype": "text/x-python",
   "name": "python",
   "nbconvert_exporter": "python",
   "pygments_lexer": "ipython3",
   "version": "3.10.8"
  },
  "orig_nbformat": 4,
  "vscode": {
   "interpreter": {
    "hash": "26de051ba29f2982a8de78e945f0abaf191376122a1563185a90213a26c5da77"
   }
  }
 },
 "nbformat": 4,
 "nbformat_minor": 2
}
